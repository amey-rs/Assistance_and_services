{
 "cells": [
  {
   "cell_type": "code",
   "execution_count": 1,
   "metadata": {},
   "outputs": [],
   "source": [
    "import json\n",
    "import numpy as np\n",
    "import pandas as pd\n",
    "import plotly.express as px\n",
    "def df():\n",
    "    df"
   ]
  },
  {
   "cell_type": "code",
   "execution_count": 2,
   "metadata": {},
   "outputs": [],
   "source": [
    "import plotly.io as pio\n",
    "pio.renderers.default = 'browser'"
   ]
  },
  {
   "cell_type": "code",
   "execution_count": 3,
   "metadata": {},
   "outputs": [],
   "source": [
    "india_states = json.load(open(\"states_india.geojson\", \"r\"))"
   ]
  },
  {
   "cell_type": "code",
   "execution_count": 4,
   "metadata": {},
   "outputs": [],
   "source": [
    "state_id_map = {}\n",
    "for feature in india_states[\"features\"]:\n",
    "    feature[\"id\"] = feature[\"properties\"][\"state_code\"]\n",
    "    state_id_map[feature[\"properties\"][\"st_nm\"]] = feature[\"id\"]\n"
   ]
  },
  {
   "cell_type": "code",
   "execution_count": 5,
   "metadata": {},
   "outputs": [],
   "source": [
    "df = pd.read_csv(\"census.csv\")\n",
    "df[\"Density\"] = df[\"Density[a]\"].apply(lambda x: int(x.split(\"/\")[0].replace(\",\", \"\")))\n",
    "df[\"id\"] = df[\"State or union territory\"].apply(lambda x: state_id_map[x])"
   ]
  },
  {
   "cell_type": "code",
   "execution_count": 6,
   "metadata": {},
   "outputs": [
    {
     "data": {
      "text/html": [
       "<div>\n",
       "<style scoped>\n",
       "    .dataframe tbody tr th:only-of-type {\n",
       "        vertical-align: middle;\n",
       "    }\n",
       "\n",
       "    .dataframe tbody tr th {\n",
       "        vertical-align: top;\n",
       "    }\n",
       "\n",
       "    .dataframe thead th {\n",
       "        text-align: right;\n",
       "    }\n",
       "</style>\n",
       "<table border=\"1\" class=\"dataframe\">\n",
       "  <thead>\n",
       "    <tr style=\"text-align: right;\">\n",
       "      <th></th>\n",
       "      <th>Rank</th>\n",
       "      <th>State or union territory</th>\n",
       "      <th>Population</th>\n",
       "      <th>Population (%)</th>\n",
       "      <th>Decadal growth(2001–2011)</th>\n",
       "      <th>Rural population</th>\n",
       "      <th>Percent rural</th>\n",
       "      <th>Urban population</th>\n",
       "      <th>Percent urban</th>\n",
       "      <th>Area[16]</th>\n",
       "      <th>Density[a]</th>\n",
       "      <th>Sex ratio</th>\n",
       "      <th>Density</th>\n",
       "      <th>id</th>\n",
       "    </tr>\n",
       "  </thead>\n",
       "  <tbody>\n",
       "    <tr>\n",
       "      <th>0</th>\n",
       "      <td>1.0</td>\n",
       "      <td>Uttar Pradesh</td>\n",
       "      <td>199812341</td>\n",
       "      <td>NaN</td>\n",
       "      <td>20.20%</td>\n",
       "      <td>155317278</td>\n",
       "      <td>NaN</td>\n",
       "      <td>44495063</td>\n",
       "      <td>NaN</td>\n",
       "      <td>240,928 km2 (93,023 sq mi)</td>\n",
       "      <td>828/km2 (2,140/sq mi)</td>\n",
       "      <td>912</td>\n",
       "      <td>828</td>\n",
       "      <td>9</td>\n",
       "    </tr>\n",
       "    <tr>\n",
       "      <th>1</th>\n",
       "      <td>2.0</td>\n",
       "      <td>Maharashtra</td>\n",
       "      <td>112374333</td>\n",
       "      <td>NaN</td>\n",
       "      <td>20.00%</td>\n",
       "      <td>61556074</td>\n",
       "      <td>NaN</td>\n",
       "      <td>50818259</td>\n",
       "      <td>NaN</td>\n",
       "      <td>307,713 km2 (118,809 sq mi)</td>\n",
       "      <td>365/km2 (950/sq mi)</td>\n",
       "      <td>929</td>\n",
       "      <td>365</td>\n",
       "      <td>27</td>\n",
       "    </tr>\n",
       "    <tr>\n",
       "      <th>2</th>\n",
       "      <td>3.0</td>\n",
       "      <td>Bihar</td>\n",
       "      <td>104099452</td>\n",
       "      <td>NaN</td>\n",
       "      <td>25.40%</td>\n",
       "      <td>92341436</td>\n",
       "      <td>NaN</td>\n",
       "      <td>11758016</td>\n",
       "      <td>NaN</td>\n",
       "      <td>94,163 km2 (36,357 sq mi)</td>\n",
       "      <td>1,102/km2 (2,850/sq mi)</td>\n",
       "      <td>918</td>\n",
       "      <td>1102</td>\n",
       "      <td>10</td>\n",
       "    </tr>\n",
       "    <tr>\n",
       "      <th>3</th>\n",
       "      <td>4.0</td>\n",
       "      <td>West Bengal</td>\n",
       "      <td>91276115</td>\n",
       "      <td>NaN</td>\n",
       "      <td>13.80%</td>\n",
       "      <td>62183113</td>\n",
       "      <td>NaN</td>\n",
       "      <td>29093002</td>\n",
       "      <td>NaN</td>\n",
       "      <td>88,752 km2 (34,267 sq mi)</td>\n",
       "      <td>1,029/km2 (2,670/sq mi)</td>\n",
       "      <td>953</td>\n",
       "      <td>1029</td>\n",
       "      <td>19</td>\n",
       "    </tr>\n",
       "    <tr>\n",
       "      <th>4</th>\n",
       "      <td>5.0</td>\n",
       "      <td>Madhya Pradesh</td>\n",
       "      <td>72626809</td>\n",
       "      <td>NaN</td>\n",
       "      <td>16.30%</td>\n",
       "      <td>52557404</td>\n",
       "      <td>NaN</td>\n",
       "      <td>20069405</td>\n",
       "      <td>NaN</td>\n",
       "      <td>308,245 km2 (119,014 sq mi)</td>\n",
       "      <td>236/km2 (610/sq mi)</td>\n",
       "      <td>931</td>\n",
       "      <td>236</td>\n",
       "      <td>23</td>\n",
       "    </tr>\n",
       "  </tbody>\n",
       "</table>\n",
       "</div>"
      ],
      "text/plain": [
       "   Rank State or union territory  Population  Population (%)  \\\n",
       "0   1.0            Uttar Pradesh   199812341             NaN   \n",
       "1   2.0              Maharashtra   112374333             NaN   \n",
       "2   3.0                    Bihar   104099452             NaN   \n",
       "3   4.0              West Bengal    91276115             NaN   \n",
       "4   5.0           Madhya Pradesh    72626809             NaN   \n",
       "\n",
       "  Decadal growth(2001–2011)  Rural population  Percent rural  \\\n",
       "0                    20.20%         155317278            NaN   \n",
       "1                    20.00%          61556074            NaN   \n",
       "2                    25.40%          92341436            NaN   \n",
       "3                    13.80%          62183113            NaN   \n",
       "4                    16.30%          52557404            NaN   \n",
       "\n",
       "   Urban population  Percent urban                     Area[16]  \\\n",
       "0          44495063            NaN   240,928 km2 (93,023 sq mi)   \n",
       "1          50818259            NaN  307,713 km2 (118,809 sq mi)   \n",
       "2          11758016            NaN    94,163 km2 (36,357 sq mi)   \n",
       "3          29093002            NaN    88,752 km2 (34,267 sq mi)   \n",
       "4          20069405            NaN  308,245 km2 (119,014 sq mi)   \n",
       "\n",
       "                Density[a]  Sex ratio  Density  id  \n",
       "0    828/km2 (2,140/sq mi)        912      828   9  \n",
       "1      365/km2 (950/sq mi)        929      365  27  \n",
       "2  1,102/km2 (2,850/sq mi)        918     1102  10  \n",
       "3  1,029/km2 (2,670/sq mi)        953     1029  19  \n",
       "4      236/km2 (610/sq mi)        931      236  23  "
      ]
     },
     "execution_count": 6,
     "metadata": {},
     "output_type": "execute_result"
    }
   ],
   "source": [
    "df.head()"
   ]
  },
  {
   "cell_type": "code",
   "execution_count": 7,
   "metadata": {},
   "outputs": [
    {
     "data": {
      "text/plain": [
       "<Axes: >"
      ]
     },
     "execution_count": 7,
     "metadata": {},
     "output_type": "execute_result"
    },
    {
     "data": {
      "image/png": "[encoded data removed]",
      "text/plain": [
       "<Figure size 640x480 with 1 Axes>"
      ]
     },
     "metadata": {},
     "output_type": "display_data"
    }
   ],
   "source": [
    "df[\"Density\"].plot()"
   ]
  },
  {
   "cell_type": "code",
   "execution_count": 8,
   "metadata": {},
   "outputs": [],
   "source": [
    "df[\"DensityScale\"] = np.log10(df[\"Density\"])"
   ]
  },
  {
   "cell_type": "code",
   "execution_count": 9,
   "metadata": {},
   "outputs": [
    {
     "data": {
      "text/plain": [
       "<Axes: >"
      ]
     },
     "execution_count": 9,
     "metadata": {},
     "output_type": "execute_result"
    },
    {
     "data": {
      "image/png": "[encoded data removed]",
      "text/plain": [
       "<Figure size 640x480 with 1 Axes>"
      ]
     },
     "metadata": {},
     "output_type": "display_data"
    }
   ],
   "source": [
    "df[\"DensityScale\"].plot()"
   ]
  },
  {
   "cell_type": "code",
   "execution_count": 10,
   "metadata": {},
   "outputs": [],
   "source": [
    "fig = px.choropleth(\n",
    "    df,\n",
    "    locations=\"id\",\n",
    "    geojson=india_states,\n",
    "    color=\"DensityScale\",\n",
    "    hover_name=\"State or union territory\",\n",
    "    hover_data=[\"Density\"],\n",
    "    title=\"India Working Farmers Population Density\",\n",
    ")\n",
    "fig.update_geos(fitbounds=\"locations\", visible=False)\n",
    "fig.show()"
   ]
  },
  {
   "cell_type": "code",
   "execution_count": 11,
   "metadata": {},
   "outputs": [],
   "source": [
    "fig = px.choropleth_mapbox(\n",
    "    df,\n",
    "    locations=\"id\",\n",
    "    geojson=india_states,\n",
    "    color=\"DensityScale\",\n",
    "    hover_name=\"State or union territory\",\n",
    "    hover_data=[\"Density\"],\n",
    "    title=\"Indian Crop Production Ratio \",\n",
    "    mapbox_style=\"carto-positron\",\n",
    "    center={\"lat\": 24, \"lon\": 78},\n",
    "    zoom=3,\n",
    "    opacity=0.5,\n",
    ")\n",
    "fig.show()"
   ]
  },
  {
   "cell_type": "code",
   "execution_count": 12,
   "metadata": {},
   "outputs": [],
   "source": [
    "df[\"SexRatioScale\"] = df[\"Sex ratio\"] - 1000"
   ]
  },
  {
   "cell_type": "code",
   "execution_count": 13,
   "metadata": {},
   "outputs": [],
   "source": [
    "fig = px.choropleth(\n",
    "    df,\n",
    "    locations=\"id\",\n",
    "    geojson=india_states,\n",
    "    color=\"SexRatioScale\",\n",
    "    hover_name=\"State or union territory\",\n",
    "    hover_data=[\"Sex ratio\"],\n",
    "    title=\"India Working Farmer Ratio\",\n",
    "    color_continuous_scale=px.colors.diverging.BrBG,\n",
    "    color_continuous_midpoint=0,\n",
    ")\n",
    "fig.update_geos(fitbounds=\"locations\", visible=False)\n",
    "fig.show()"
   ]
  }
 ],
 "metadata": {
  "kernelspec": {
   "display_name": "Python 3",
   "language": "python",
   "name": "python3"
  },
  "language_info": {
   "codemirror_mode": {
    "name": "ipython",
    "version": 3
   },
   "file_extension": ".py",
   "mimetype": "text/x-python",
   "name": "python",
   "nbconvert_exporter": "python",
   "pygments_lexer": "ipython3",
   "version": "3.11.2"
  },
  "orig_nbformat": 4,
  "vscode": {
   "interpreter": {
    "hash": "630e646ebd6374123ba3429aff1cf453eb32d4ea2f415c6ae4f0342bb7ca48fc"
   }
  }
 },
 "nbformat": 4,
 "nbformat_minor": 2
}
